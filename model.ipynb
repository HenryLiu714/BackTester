{
  "cells": [
    {
      "cell_type": "markdown",
      "metadata": {
        "id": "view-in-github",
        "colab_type": "text"
      },
      "source": [
        "<a href=\"https://colab.research.google.com/github/HenryLiu714/BackTester/blob/main/model.ipynb\" target=\"_parent\"><img src=\"https://colab.research.google.com/assets/colab-badge.svg\" alt=\"Open In Colab\"/></a>"
      ]
    },
    {
      "cell_type": "markdown",
      "metadata": {
        "id": "EGbzpZ31v97M"
      },
      "source": [
        "**Installing and Importing Dependencies**"
      ]
    },
    {
      "cell_type": "code",
      "execution_count": null,
      "metadata": {
        "id": "PjGei3sbA8nb"
      },
      "outputs": [],
      "source": [
        "from google.colab import drive\n",
        "drive.mount('/content/drive')"
      ]
    },
    {
      "cell_type": "code",
      "execution_count": null,
      "metadata": {
        "id": "MzeZJL99uRVC"
      },
      "outputs": [],
      "source": [
        "import os"
      ]
    },
    {
      "cell_type": "code",
      "execution_count": null,
      "metadata": {
        "id": "8kX2adFIr2oX"
      },
      "outputs": [],
      "source": [
        "# Ensure dependencies are installed\n",
        "\n",
        "dependencies = [\n",
        "    \"numpy\",\n",
        "    \"pandas\",\n",
        "    \"matplotlib\",\n",
        "    \"tweetnlp\"\n",
        "]\n",
        "\n",
        "for dependency in dependencies:\n",
        "  os.system(f\"pip3 install {dependency}\")"
      ]
    },
    {
      "cell_type": "code",
      "execution_count": null,
      "metadata": {
        "id": "Ov6c4nUnr4tt"
      },
      "outputs": [],
      "source": [
        "import numpy as np\n",
        "import pandas as pd\n",
        "import matplotlib.pyplot as plt\n",
        "\n",
        "import tweetnlp"
      ]
    },
    {
      "cell_type": "code",
      "execution_count": null,
      "metadata": {
        "id": "jsMZpE6oBVzU"
      },
      "outputs": [],
      "source": [
        "os.chdir(\"drive/MyDrive/sentiment_bot\")"
      ]
    },
    {
      "cell_type": "markdown",
      "metadata": {
        "id": "M-J75MmowDqA"
      },
      "source": [
        "**Sentiment Analysis Model Loading**"
      ]
    },
    {
      "cell_type": "code",
      "execution_count": null,
      "metadata": {
        "id": "bvi_v0bdudVe",
        "collapsed": true
      },
      "outputs": [],
      "source": [
        "model = tweetnlp.load_model(\"sentiment\")"
      ]
    },
    {
      "cell_type": "code",
      "execution_count": null,
      "metadata": {
        "id": "EETFkOb-uxl_"
      },
      "outputs": [],
      "source": [
        "def get_sentiment(s: str) -> int:\n",
        "  sentiment = model.sentiment(s)['label']\n",
        "\n",
        "  if sentiment == 'positive':\n",
        "    return 1\n",
        "  elif sentiment == 'negative':\n",
        "    return -1\n",
        "  else:\n",
        "    return 0"
      ]
    },
    {
      "cell_type": "code",
      "execution_count": null,
      "metadata": {
        "id": "PuKoIy93vyha"
      },
      "outputs": [],
      "source": [
        "tweets = pd.read_csv('stock.csv', on_bad_lines='skip')"
      ]
    },
    {
      "cell_type": "code",
      "source": [
        "tweets = tweets.dropna()\n",
        "tweets = tweets[tweets['category']=='stock_images']\n",
        "tweets = tweets.drop(columns=['tweet_url', 'tweet_type', 'price_of_ticker', 'change_of_ticker', 'category'])"
      ],
      "metadata": {
        "id": "POOp8K8_JndA"
      },
      "execution_count": null,
      "outputs": []
    },
    {
      "cell_type": "code",
      "execution_count": null,
      "metadata": {
        "id": "AckMJ6Ab_1UZ"
      },
      "outputs": [],
      "source": [
        "def tickers_to_array(s:str)->list[str]:\n",
        "  s = s[1:-1].split(', ')\n",
        "  tickers = []\n",
        "  for ticker in s:\n",
        "    tickers.append(ticker[2:-1])\n",
        "  return tickers\n",
        "\n",
        "tweets['tickers_mentioned'] = tweets['tickers_mentioned'].transform(lambda x: tickers_to_array(x))\n",
        "tweets['timestamp'] = tweets['timestamp'].transform(lambda x: pd.Timestamp(x[:10]))"
      ]
    },
    {
      "cell_type": "code",
      "source": [
        "class Trade:\n",
        "  def __init__(self, ticker: str, dir: bool, strength: int):\n",
        "    self.ticker = ticker\n",
        "    self.dir = dir\n",
        "    self.strength = strength"
      ],
      "metadata": {
        "id": "mbc1fgrMCQVE"
      },
      "execution_count": null,
      "outputs": []
    },
    {
      "cell_type": "code",
      "source": [
        "def get_best_trade(date: pd.Timestamp) -> Trade:\n",
        "  ticker_data = tweets[tweets['timestamp'] == date]\n",
        "\n",
        "  tickers = {}\n",
        "\n",
        "  for index, row in ticker_data.iterrows():\n",
        "    sentiment = get_sentiment(row['tweet_text'])\n",
        "\n",
        "    for ticker in row['tickers_mentioned']:\n",
        "      if ticker not in tickers:\n",
        "        tickers[ticker] = sentiment\n",
        "      else:\n",
        "        tickers[ticker] += sentiment\n",
        "\n",
        "  best_ticker = max(tickers, key=tickers.get)\n",
        "  worst_ticker = min(tickers, key=tickers.get)\n",
        "\n",
        "  if abs(tickers[best_ticker]) > abs(tickers[worst_ticker]):\n",
        "    return Trade(best_ticker, True, abs(tickers[best_ticker]))\n",
        "  else:\n",
        "    return Trade(worst_ticker, False, abs(tickers[worst_ticker]))\n"
      ],
      "metadata": {
        "id": "X2s79R-OOfh7"
      },
      "execution_count": null,
      "outputs": []
    }
  ],
  "metadata": {
    "colab": {
      "provenance": [],
      "include_colab_link": true
    },
    "kernelspec": {
      "display_name": "Python 3",
      "name": "python3"
    },
    "language_info": {
      "name": "python"
    }
  },
  "nbformat": 4,
  "nbformat_minor": 0
}